{
 "cells": [
  {
   "cell_type": "code",
   "execution_count": 16,
   "id": "04715d37",
   "metadata": {},
   "outputs": [],
   "source": [
    "import yfinance as yf\n",
    "import pandas   as pd\n",
    "import numpy    as np\n",
    "import matplotlib.pyplot as plt\n",
    "\n",
    "from utils import *\n",
    "\n",
    "import datetime as dt\n",
    "import requests"
   ]
  },
  {
   "cell_type": "code",
   "execution_count": 29,
   "id": "162ced10",
   "metadata": {},
   "outputs": [
    {
     "name": "stdout",
     "output_type": "stream",
     "text": [
      "[*********************100%***********************]  1 of 1 completed\n"
     ]
    },
    {
     "data": {
      "text/html": [
       "<div>\n",
       "<style scoped>\n",
       "    .dataframe tbody tr th:only-of-type {\n",
       "        vertical-align: middle;\n",
       "    }\n",
       "\n",
       "    .dataframe tbody tr th {\n",
       "        vertical-align: top;\n",
       "    }\n",
       "\n",
       "    .dataframe thead th {\n",
       "        text-align: right;\n",
       "    }\n",
       "</style>\n",
       "<table border=\"1\" class=\"dataframe\">\n",
       "  <thead>\n",
       "    <tr style=\"text-align: right;\">\n",
       "      <th></th>\n",
       "      <th>Open</th>\n",
       "      <th>High</th>\n",
       "      <th>Low</th>\n",
       "      <th>Close</th>\n",
       "      <th>Adj Close</th>\n",
       "      <th>Volume</th>\n",
       "    </tr>\n",
       "    <tr>\n",
       "      <th>Date</th>\n",
       "      <th></th>\n",
       "      <th></th>\n",
       "      <th></th>\n",
       "      <th></th>\n",
       "      <th></th>\n",
       "      <th></th>\n",
       "    </tr>\n",
       "  </thead>\n",
       "  <tbody>\n",
       "    <tr>\n",
       "      <th>2009-03-30</th>\n",
       "      <td>1.23890</td>\n",
       "      <td>1.26460</td>\n",
       "      <td>1.23820</td>\n",
       "      <td>1.26200</td>\n",
       "      <td>1.26200</td>\n",
       "      <td>0</td>\n",
       "    </tr>\n",
       "    <tr>\n",
       "      <th>2009-03-31</th>\n",
       "      <td>1.26180</td>\n",
       "      <td>1.26470</td>\n",
       "      <td>1.25020</td>\n",
       "      <td>1.26200</td>\n",
       "      <td>1.26200</td>\n",
       "      <td>0</td>\n",
       "    </tr>\n",
       "    <tr>\n",
       "      <th>2009-04-01</th>\n",
       "      <td>1.26210</td>\n",
       "      <td>1.27060</td>\n",
       "      <td>1.25730</td>\n",
       "      <td>1.25790</td>\n",
       "      <td>1.25790</td>\n",
       "      <td>0</td>\n",
       "    </tr>\n",
       "    <tr>\n",
       "      <th>2009-04-02</th>\n",
       "      <td>1.25860</td>\n",
       "      <td>1.26000</td>\n",
       "      <td>1.23400</td>\n",
       "      <td>1.23730</td>\n",
       "      <td>1.23730</td>\n",
       "      <td>0</td>\n",
       "    </tr>\n",
       "    <tr>\n",
       "      <th>2009-04-03</th>\n",
       "      <td>1.23730</td>\n",
       "      <td>1.24530</td>\n",
       "      <td>1.22950</td>\n",
       "      <td>1.23040</td>\n",
       "      <td>1.23040</td>\n",
       "      <td>0</td>\n",
       "    </tr>\n",
       "    <tr>\n",
       "      <th>...</th>\n",
       "      <td>...</td>\n",
       "      <td>...</td>\n",
       "      <td>...</td>\n",
       "      <td>...</td>\n",
       "      <td>...</td>\n",
       "      <td>...</td>\n",
       "    </tr>\n",
       "    <tr>\n",
       "      <th>2022-11-29</th>\n",
       "      <td>1.34899</td>\n",
       "      <td>1.36392</td>\n",
       "      <td>1.34097</td>\n",
       "      <td>1.34899</td>\n",
       "      <td>1.34899</td>\n",
       "      <td>0</td>\n",
       "    </tr>\n",
       "    <tr>\n",
       "      <th>2022-11-30</th>\n",
       "      <td>1.35836</td>\n",
       "      <td>1.35893</td>\n",
       "      <td>1.34923</td>\n",
       "      <td>1.35836</td>\n",
       "      <td>1.35836</td>\n",
       "      <td>0</td>\n",
       "    </tr>\n",
       "    <tr>\n",
       "      <th>2022-12-01</th>\n",
       "      <td>1.34120</td>\n",
       "      <td>1.34663</td>\n",
       "      <td>1.33946</td>\n",
       "      <td>1.34120</td>\n",
       "      <td>1.34120</td>\n",
       "      <td>0</td>\n",
       "    </tr>\n",
       "    <tr>\n",
       "      <th>2022-12-02</th>\n",
       "      <td>1.34355</td>\n",
       "      <td>1.35114</td>\n",
       "      <td>1.34200</td>\n",
       "      <td>1.34355</td>\n",
       "      <td>1.34355</td>\n",
       "      <td>0</td>\n",
       "    </tr>\n",
       "    <tr>\n",
       "      <th>2022-12-05</th>\n",
       "      <td>1.34680</td>\n",
       "      <td>1.34740</td>\n",
       "      <td>1.33830</td>\n",
       "      <td>1.34076</td>\n",
       "      <td>1.34076</td>\n",
       "      <td>0</td>\n",
       "    </tr>\n",
       "  </tbody>\n",
       "</table>\n",
       "<p>3565 rows × 6 columns</p>\n",
       "</div>"
      ],
      "text/plain": [
       "               Open     High      Low    Close  Adj Close  Volume\n",
       "Date                                                             \n",
       "2009-03-30  1.23890  1.26460  1.23820  1.26200    1.26200       0\n",
       "2009-03-31  1.26180  1.26470  1.25020  1.26200    1.26200       0\n",
       "2009-04-01  1.26210  1.27060  1.25730  1.25790    1.25790       0\n",
       "2009-04-02  1.25860  1.26000  1.23400  1.23730    1.23730       0\n",
       "2009-04-03  1.23730  1.24530  1.22950  1.23040    1.23040       0\n",
       "...             ...      ...      ...      ...        ...     ...\n",
       "2022-11-29  1.34899  1.36392  1.34097  1.34899    1.34899       0\n",
       "2022-11-30  1.35836  1.35893  1.34923  1.35836    1.35836       0\n",
       "2022-12-01  1.34120  1.34663  1.33946  1.34120    1.34120       0\n",
       "2022-12-02  1.34355  1.35114  1.34200  1.34355    1.34355       0\n",
       "2022-12-05  1.34680  1.34740  1.33830  1.34076    1.34076       0\n",
       "\n",
       "[3565 rows x 6 columns]"
      ]
     },
     "execution_count": 29,
     "metadata": {},
     "output_type": "execute_result"
    }
   ],
   "source": [
    "data = yf.download(\"USDCAD=X\", dt.datetime.today()- dt.timedelta(5000) , dt.datetime.today())\n",
    "data"
   ]
  },
  {
   "cell_type": "code",
   "execution_count": 30,
   "id": "3fb71cd6",
   "metadata": {},
   "outputs": [],
   "source": [
    "def stoch_osc(df,k=14,d=3):\n",
    "    \"\"\"\n",
    "    Source : https://www.alpharithms.com/stochastic-oscillator-in-python-483214/#:~:text=The%20stochastic%20oscillator%20is%20a,many%20advantages%20in%20algorithmic%20trading.\n",
    "    \"\"\"\n",
    "    \n",
    "    df = pd.DataFrame(df)\n",
    "\n",
    "    df['n_high'] = df['High'].rolling(k).max()\n",
    "    df['n_low'] = df['Low'].rolling(k).min()\n",
    "    df['%K'] = (df['Close'] - df['n_low']) * 100 / (df['n_high'] - df['n_low'])\n",
    "    df['%D'] = df['%K'].rolling(d).mean()\n",
    "    \n",
    "    return df"
   ]
  },
  {
   "cell_type": "code",
   "execution_count": 35,
   "id": "30806481",
   "metadata": {},
   "outputs": [
    {
     "data": {
      "text/plain": [
       "<AxesSubplot:xlabel='Date'>"
      ]
     },
     "execution_count": 35,
     "metadata": {},
     "output_type": "execute_result"
    },
    {
     "data": {
      "image/png": "[encoded data removed]",
      "text/plain": [
       "<Figure size 432x288 with 1 Axes>"
      ]
     },
     "metadata": {
      "needs_background": "light"
     },
     "output_type": "display_data"
    }
   ],
   "source": [
    "stoch_osc(data)[['%K','%D']].tail(50).plot()"
   ]
  },
  {
   "cell_type": "code",
   "execution_count": 101,
   "id": "d0baa9a1",
   "metadata": {},
   "outputs": [],
   "source": [
    "sc = stoch_osc(data)[['%K','%D']].dropna()\n",
    "\n",
    "signals=[]\n",
    "\n",
    "for i in range(len(sc)):\n",
    "        \n",
    "    if (sc.iloc[i] < 20).all():\n",
    "        signals.append(1)\n",
    "    \n",
    "    else:\n",
    "        signals.append(0)"
   ]
  },
  {
   "cell_type": "code",
   "execution_count": 103,
   "id": "84b13ccc",
   "metadata": {},
   "outputs": [],
   "source": [
    "p = data['Close'][sc.index[0]:]\n"
   ]
  },
  {
   "cell_type": "code",
   "execution_count": 104,
   "id": "8a24735f",
   "metadata": {},
   "outputs": [],
   "source": [
    "returns = backtester(signals,p)\n",
    "dd = max_dd(returns.pct_change().dropna().values.ravel())\n",
    "wr = win_rate(pd.Series(signals), returns)"
   ]
  },
  {
   "cell_type": "code",
   "execution_count": 105,
   "id": "3eeeaf36",
   "metadata": {},
   "outputs": [
    {
     "data": {
      "text/plain": [
       "<AxesSubplot:xlabel='Date'>"
      ]
     },
     "execution_count": 105,
     "metadata": {},
     "output_type": "execute_result"
    },
    {
     "data": {
      "image/png": "[encoded data removed]",
      "text/plain": [
       "<Figure size 432x288 with 1 Axes>"
      ]
     },
     "metadata": {
      "needs_background": "light"
     },
     "output_type": "display_data"
    }
   ],
   "source": [
    "returns.plot()"
   ]
  },
  {
   "cell_type": "code",
   "execution_count": 106,
   "id": "ed2cc1e4",
   "metadata": {},
   "outputs": [
    {
     "data": {
      "text/plain": [
       "-0.730733356369007"
      ]
     },
     "execution_count": 106,
     "metadata": {},
     "output_type": "execute_result"
    }
   ],
   "source": [
    "dd"
   ]
  },
  {
   "cell_type": "code",
   "execution_count": 107,
   "id": "c77fb63c",
   "metadata": {},
   "outputs": [
    {
     "data": {
      "text/plain": [
       "0.02480270574971815"
      ]
     },
     "execution_count": 107,
     "metadata": {},
     "output_type": "execute_result"
    }
   ],
   "source": [
    "wr"
   ]
  }
 ],
 "metadata": {
  "kernelspec": {
   "display_name": "Python 3",
   "language": "python",
   "name": "python3"
  },
  "language_info": {
   "codemirror_mode": {
    "name": "ipython",
    "version": 3
   },
   "file_extension": ".py",
   "mimetype": "text/x-python",
   "name": "python",
   "nbconvert_exporter": "python",
   "pygments_lexer": "ipython3",
   "version": "3.8.8"
  }
 },
 "nbformat": 4,
 "nbformat_minor": 5
}
