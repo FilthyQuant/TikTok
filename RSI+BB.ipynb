{
 "cells": [
  {
   "cell_type": "code",
   "execution_count": 1,
   "id": "babf01e7",
   "metadata": {},
   "outputs": [],
   "source": [
    "import yfinance as yf\n",
    "import pandas   as pd\n",
    "import numpy    as np\n",
    "import matplotlib.pyplot as plt\n",
    "from utils import *"
   ]
  },
  {
   "cell_type": "code",
   "execution_count": 74,
   "id": "c6eda230",
   "metadata": {},
   "outputs": [],
   "source": [
    "spx = yf.Ticker(\"SPY\").history(period=\"10y\",interval = '1d')\n",
    "spx  = pd.DataFrame(spx['Close'].dropna())"
   ]
  },
  {
   "cell_type": "code",
   "execution_count": 68,
   "id": "32572b3c",
   "metadata": {},
   "outputs": [],
   "source": [
    "def bolbands(df, l=30, mul = 2):\n",
    "\n",
    "    data = df.copy()\n",
    "    data['sma'] = data.rolling(window=l).mean()\n",
    "    std = data['Close'].rolling(window=l).std()\n",
    "    \n",
    "    data['upper'] = data['sma'] + std * mul\n",
    "    data['lower'] = data['sma'] - std * mul\n",
    "    \n",
    "    return data\n",
    "\n",
    "data = bolbands(df=spx)\n"
   ]
  },
  {
   "cell_type": "code",
   "execution_count": 69,
   "id": "c53f52e0",
   "metadata": {},
   "outputs": [],
   "source": [
    "def rsi_tradingview(ohlc: pd.DataFrame, period: int = 13, round_rsi: bool = True):\n",
    "    \"\"\" \n",
    "    From : https://github.com/lukaszbinden/rsi_tradingview/blob/main/rsi.py\n",
    "    \n",
    "    \"\"\"\n",
    "\n",
    "    delta = ohlc.diff()\n",
    "\n",
    "    up = delta.copy()\n",
    "    up[up < 0] = 0\n",
    "    up = pd.Series.ewm(up, alpha=1/period).mean()\n",
    "\n",
    "    down = delta.copy()\n",
    "    down[down > 0] = 0\n",
    "    down *= -1\n",
    "    down = pd.Series.ewm(down, alpha=1/period).mean()\n",
    "\n",
    "    rsi = np.where(up == 0, 0, np.where(down == 0, 100, 100 - (100 / (1 + up / down))))\n",
    "\n",
    "    return np.round(rsi, 2) if round_rsi else rsi"
   ]
  },
  {
   "cell_type": "code",
   "execution_count": 76,
   "id": "4033801c",
   "metadata": {},
   "outputs": [],
   "source": [
    "RSI = pd.DataFrame(rsi_tradingview(spx),index = spx.index)['2017-01-01':]\n",
    "BB = bolbands(df=spx)['2017-01-01':]"
   ]
  },
  {
   "cell_type": "code",
   "execution_count": 77,
   "id": "8921c80a",
   "metadata": {},
   "outputs": [],
   "source": [
    "# Trading Rule\n",
    "\n",
    "signals = []\n",
    "\n",
    "for i in range(len(RSI)):\n",
    "\n",
    "    if (RSI.iloc[i] < 30).bool() and (BB['lower'].iloc[i] < BB['Close'].iloc[i]):\n",
    "        \n",
    "        signals.append(1)\n",
    "        \n",
    "    else:\n",
    "        signals.append(0)"
   ]
  },
  {
   "cell_type": "code",
   "execution_count": 87,
   "id": "46c0042f",
   "metadata": {},
   "outputs": [],
   "source": [
    "returns = backtester(signals,BB['Close'])\n",
    "dd = max_dd(BB['Close'].pct_change().dropna().values.ravel())\n",
    "wr = win_rate(pd.Series(signals), returns)"
   ]
  },
  {
   "cell_type": "code",
   "execution_count": 88,
   "id": "3a6bb7fd",
   "metadata": {},
   "outputs": [
    {
     "data": {
      "text/plain": [
       "'Max Drawdown : '"
      ]
     },
     "metadata": {},
     "output_type": "display_data"
    },
    {
     "data": {
      "text/plain": [
       "-0.3"
      ]
     },
     "metadata": {},
     "output_type": "display_data"
    },
    {
     "data": {
      "text/plain": [
       "'Win Rate (TP / Total Trades) : '"
      ]
     },
     "metadata": {},
     "output_type": "display_data"
    },
    {
     "data": {
      "text/plain": [
       "0.0"
      ]
     },
     "metadata": {},
     "output_type": "display_data"
    },
    {
     "data": {
      "image/png": "[encoded data removed]",
      "text/plain": [
       "<Figure size 1800x720 with 1 Axes>"
      ]
     },
     "metadata": {
      "needs_background": "light"
     },
     "output_type": "display_data"
    }
   ],
   "source": [
    "display('Max Drawdown : ',round(dd,1))\n",
    "display('Win Rate (TP / Total Trades) : ', round(wr,3))\n",
    "returns.plot(figsize = (25,10))\n",
    "plt.show()"
   ]
  }
 ],
 "metadata": {
  "kernelspec": {
   "display_name": "Python 3",
   "language": "python",
   "name": "python3"
  },
  "language_info": {
   "codemirror_mode": {
    "name": "ipython",
    "version": 3
   },
   "file_extension": ".py",
   "mimetype": "text/x-python",
   "name": "python",
   "nbconvert_exporter": "python",
   "pygments_lexer": "ipython3",
   "version": "3.8.8"
  }
 },
 "nbformat": 4,
 "nbformat_minor": 5
}
